{
 "cells": [
  {
   "cell_type": "code",
   "execution_count": 1,
   "metadata": {},
   "outputs": [],
   "source": [
    "from api import serializers"
   ]
  },
  {
   "cell_type": "code",
   "execution_count": 6,
   "metadata": {},
   "outputs": [
    {
     "name": "stdout",
     "output_type": "stream",
     "text": [
      "RecipeSerializer():\n",
      "    url = HyperlinkedIdentityField(view_name='recipe-detail')\n",
      "    name = CharField(max_length=150)\n",
      "    description = CharField(style={'base_template': 'textarea.html'})\n",
      "    cooking_instructions = CharField(style={'base_template': 'textarea.html'})\n",
      "    slug = SlugField(read_only=True)\n",
      "    preparation_time = IntegerField(help_text='Preparation time in minutes')\n",
      "    cooking_time = IntegerField(help_text='Cooking time in minutes')\n",
      "    created = DateTimeField(read_only=True)\n",
      "    modified = DateTimeField(read_only=True)\n",
      "    category = HyperlinkedRelatedField(queryset=Category.objects.all(), view_name='category-detail')\n",
      "    course = HyperlinkedRelatedField(lookup_field='slug', queryset=Course.objects.all(), view_name='course-detail')\n",
      "    cuisine = HyperlinkedRelatedField(lookup_field='slug', queryset=Cuisine.objects.all(), view_name='cuisine-detail')\n"
     ]
    }
   ],
   "source": [
    "serializer = serializers.RecipeSerializer()\n",
    "print(repr(serializer))"
   ]
  },
  {
   "cell_type": "code",
   "execution_count": 3,
   "metadata": {},
   "outputs": [
    {
     "name": "stdout",
     "output_type": "stream",
     "text": [
      "CuisineSerializer():\n",
      "    id = IntegerField(label='ID', read_only=True)\n",
      "    name = CharField(max_length=150)\n",
      "    slug = SlugField(max_length=50)\n"
     ]
    }
   ],
   "source": [
    "cuisine_serializer = serializers.CuisineSerializer()\n",
    "print(repr(cuisine_serializer))"
   ]
  },
  {
   "cell_type": "code",
   "execution_count": 7,
   "metadata": {},
   "outputs": [
    {
     "name": "stdout",
     "output_type": "stream",
     "text": [
      "[<URLPattern '^cuisines/$' [name='cuisine-list']>, <URLPattern '^cuisines\\.(?P<format>[a-z0-9]+)/?$' [name='cuisine-list']>, <URLPattern '^cuisines/(?P<pk>[^/.]+)/$' [name='cuisine-detail']>, <URLPattern '^cuisines/(?P<pk>[^/.]+)\\.(?P<format>[a-z0-9]+)/?$' [name='cuisine-detail']>, <URLPattern '^recipes/$' [name='recipe-list']>, <URLPattern '^recipes\\.(?P<format>[a-z0-9]+)/?$' [name='recipe-list']>, <URLPattern '^recipes/(?P<pk>[^/.]+)/$' [name='recipe-detail']>, <URLPattern '^recipes/(?P<pk>[^/.]+)\\.(?P<format>[a-z0-9]+)/?$' [name='recipe-detail']>, <URLPattern '^$' [name='api-root']>, <URLPattern '^\\.(?P<format>[a-z0-9]+)/?$' [name='api-root']>]\n"
     ]
    }
   ],
   "source": [
    "from rest_framework.routers import DefaultRouter\n",
    "from api import views\n",
    "\n",
    "router = DefaultRouter()\n",
    "\n",
    "router.register('cuisines', views.CuisineViewSet)\n",
    "router.register('recipes', views.RecipeViewSet)\n",
    "print(router.urls)"
   ]
  }
 ],
 "metadata": {
  "kernelspec": {
   "display_name": "Django Shell-Plus",
   "language": "python",
   "name": "django_extensions"
  },
  "language_info": {
   "codemirror_mode": {
    "name": "ipython",
    "version": 3
   },
   "file_extension": ".py",
   "mimetype": "text/x-python",
   "name": "python",
   "nbconvert_exporter": "python",
   "pygments_lexer": "ipython3",
   "version": "3.6.3"
  }
 },
 "nbformat": 4,
 "nbformat_minor": 2
}
