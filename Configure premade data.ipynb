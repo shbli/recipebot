{
 "cells": [
  {
   "cell_type": "code",
   "execution_count": 1,
   "metadata": {
    "collapsed": true
   },
   "outputs": [],
   "source": [
    "from api.models import Course, Cuisine"
   ]
  },
  {
   "cell_type": "markdown",
   "metadata": {},
   "source": [
    "## Create some courses\n",
    "This creates a few sample courses that we'll use.\n",
    "We'll save these later"
   ]
  },
  {
   "cell_type": "code",
   "execution_count": 3,
   "metadata": {
    "collapsed": true
   },
   "outputs": [],
   "source": [
    "starter_course = Course(name='Starter')\n",
    "entree_course = Course(name='Entrée')\n",
    "main_course = Course(name='Main')\n",
    "dessert_course = Course(name='Dessert')"
   ]
  },
  {
   "cell_type": "markdown",
   "metadata": {},
   "source": [
    "## Store every course in the database\n",
    "Iterate over all the courses and save them in the database."
   ]
  },
  {
   "cell_type": "code",
   "execution_count": 4,
   "metadata": {
    "collapsed": true
   },
   "outputs": [],
   "source": [
    "for course in [starter_course, entree_course, main_course, dessert_course]:\n",
    "    course.save()"
   ]
  },
  {
   "cell_type": "markdown",
   "metadata": {},
   "source": [
    "## Check that all courses are available\n",
    "Use the code below to retrieve the stored courses. Check that every course is succesfully inserted in the database."
   ]
  },
  {
   "cell_type": "code",
   "execution_count": 7,
   "metadata": {},
   "outputs": [
    {
     "name": "stdout",
     "output_type": "stream",
     "text": [
      "Course object (4)\n",
      "Course object (2)\n",
      "Course object (3)\n",
      "Course object (1)\n"
     ]
    }
   ],
   "source": [
    "for course in Course.objects.all():\n",
    "    print(course)b"
   ]
  },
  {
   "cell_type": "code",
   "execution_count": 4,
   "metadata": {},
   "outputs": [
    {
     "name": "stdout",
     "output_type": "stream",
     "text": [
      "asian\n",
      "dutch\n",
      "french\n"
     ]
    }
   ],
   "source": [
    "from api.models import Cuisine\n",
    "for c in Cuisine.objects.all():\n",
    "    print(c.slug)"
   ]
  }
 ],
 "metadata": {
  "kernelspec": {
   "display_name": "Django Shell-Plus",
   "language": "python",
   "name": "django_extensions"
  },
  "language_info": {
   "codemirror_mode": {
    "name": "ipython",
    "version": 3
   },
   "file_extension": ".py",
   "mimetype": "text/x-python",
   "name": "python",
   "nbconvert_exporter": "python",
   "pygments_lexer": "ipython3",
   "version": "3.6.3"
  }
 },
 "nbformat": 4,
 "nbformat_minor": 2
}
